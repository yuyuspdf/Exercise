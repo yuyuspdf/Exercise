{
  "nbformat": 4,
  "nbformat_minor": 0,
  "metadata": {
    "colab": {
      "name": "Yu_Shi_Exercise.ipynb",
      "provenance": [],
      "collapsed_sections": [
        "_7b2sp0pJC3H"
      ],
      "authorship_tag": "ABX9TyMLPCEBciX7ZBvs9tKVNDRh",
      "include_colab_link": true
    },
    "kernelspec": {
      "name": "python3",
      "display_name": "Python 3"
    }
  },
  "cells": [
    {
      "cell_type": "markdown",
      "metadata": {
        "id": "view-in-github",
        "colab_type": "text"
      },
      "source": [
        "<a href=\"https://colab.research.google.com/github/yuyuspdf/Exercise/blob/master/Yu_Shi_Exercise.ipynb\" target=\"_parent\"><img src=\"https://colab.research.google.com/assets/colab-badge.svg\" alt=\"Open In Colab\"/></a>"
      ]
    },
    {
      "cell_type": "markdown",
      "metadata": {
        "id": "bpBWndFvHGpT",
        "colab_type": "text"
      },
      "source": [
        "# **Klaviyo, Data Science Exercise**\n",
        "\n",
        "Name: \n",
        "\n",
        "Email:\n"
      ]
    },
    {
      "cell_type": "code",
      "metadata": {
        "id": "Un1dtQFdHUwX",
        "colab_type": "code",
        "colab": {}
      },
      "source": [
        "#Please run this first\n",
        "!pip install -U -q PyDrive\n",
        "from pydrive.auth import GoogleAuth\n",
        "from pydrive.drive import GoogleDrive\n",
        "from google.colab import auth\n",
        "from oauth2client.client import GoogleCredentials\n",
        "\n",
        "# Authenticate and create the PyDrive client.\n",
        "auth.authenticate_user()\n",
        "gauth = GoogleAuth()\n",
        "gauth.credentials = GoogleCredentials.get_application_default()\n",
        "drive = GoogleDrive(gauth)\n",
        "#import modules\n",
        "\n",
        "import numpy as np\n",
        "import pandas as pd\n",
        "import matplotlib.pyplot as plt"
      ],
      "execution_count": null,
      "outputs": []
    },
    {
      "cell_type": "code",
      "metadata": {
        "id": "hnLvILdEHy5H",
        "colab_type": "code",
        "colab": {
          "base_uri": "https://localhost:8080/",
          "height": 204
        },
        "outputId": "5de1bc61-0aed-48d1-db00-d928bca878dc"
      },
      "source": [
        "#Import Data\n",
        "link=\"https://drive.google.com/open?id=1jypbY6VkMPWHwAHb3m4Au5b8QdAev0FR\"\n",
        "_,id=link.split(\"=\")\n",
        "downloaded = drive.CreateFile({'id':id}) \n",
        "downloaded.GetContentFile('screening_exercise_orders_v201810.csv')\n",
        "data = pd.read_csv('screening_exercise_orders_v201810.csv')\n",
        "data.head()"
      ],
      "execution_count": null,
      "outputs": [
        {
          "output_type": "execute_result",
          "data": {
            "text/html": [
              "<div>\n",
              "<style scoped>\n",
              "    .dataframe tbody tr th:only-of-type {\n",
              "        vertical-align: middle;\n",
              "    }\n",
              "\n",
              "    .dataframe tbody tr th {\n",
              "        vertical-align: top;\n",
              "    }\n",
              "\n",
              "    .dataframe thead th {\n",
              "        text-align: right;\n",
              "    }\n",
              "</style>\n",
              "<table border=\"1\" class=\"dataframe\">\n",
              "  <thead>\n",
              "    <tr style=\"text-align: right;\">\n",
              "      <th></th>\n",
              "      <th>customer_id</th>\n",
              "      <th>gender</th>\n",
              "      <th>date</th>\n",
              "      <th>value</th>\n",
              "      <th>predicted_gender</th>\n",
              "    </tr>\n",
              "  </thead>\n",
              "  <tbody>\n",
              "    <tr>\n",
              "      <th>0</th>\n",
              "      <td>1000</td>\n",
              "      <td>0</td>\n",
              "      <td>2017-01-01 00:11:31</td>\n",
              "      <td>198.5</td>\n",
              "      <td>1</td>\n",
              "    </tr>\n",
              "    <tr>\n",
              "      <th>1</th>\n",
              "      <td>1001</td>\n",
              "      <td>0</td>\n",
              "      <td>2017-01-01 00:29:56</td>\n",
              "      <td>338.0</td>\n",
              "      <td>1</td>\n",
              "    </tr>\n",
              "    <tr>\n",
              "      <th>2</th>\n",
              "      <td>1002</td>\n",
              "      <td>1</td>\n",
              "      <td>2017-01-01 01:30:31</td>\n",
              "      <td>733.0</td>\n",
              "      <td>1</td>\n",
              "    </tr>\n",
              "    <tr>\n",
              "      <th>3</th>\n",
              "      <td>1003</td>\n",
              "      <td>1</td>\n",
              "      <td>2017-01-01 01:34:22</td>\n",
              "      <td>772.0</td>\n",
              "      <td>1</td>\n",
              "    </tr>\n",
              "    <tr>\n",
              "      <th>4</th>\n",
              "      <td>1004</td>\n",
              "      <td>0</td>\n",
              "      <td>2017-01-01 03:11:54</td>\n",
              "      <td>508.0</td>\n",
              "      <td>1</td>\n",
              "    </tr>\n",
              "  </tbody>\n",
              "</table>\n",
              "</div>"
            ],
            "text/plain": [
              "   customer_id  gender                 date  value  predicted_gender\n",
              "0         1000       0  2017-01-01 00:11:31  198.5                 1\n",
              "1         1001       0  2017-01-01 00:29:56  338.0                 1\n",
              "2         1002       1  2017-01-01 01:30:31  733.0                 1\n",
              "3         1003       1  2017-01-01 01:34:22  772.0                 1\n",
              "4         1004       0  2017-01-01 03:11:54  508.0                 1"
            ]
          },
          "metadata": {
            "tags": []
          },
          "execution_count": 15
        }
      ]
    },
    {
      "cell_type": "code",
      "metadata": {
        "id": "UNwpxp3NTUy3",
        "colab_type": "code",
        "colab": {}
      },
      "source": [
        "data['date'] = pd.to_datetime(data['date'])"
      ],
      "execution_count": null,
      "outputs": []
    },
    {
      "cell_type": "markdown",
      "metadata": {
        "id": "vasGK6kRIr3t",
        "colab_type": "text"
      },
      "source": [
        "# (A)\n",
        "\n",
        "---\n",
        "\n"
      ]
    },
    {
      "cell_type": "code",
      "metadata": {
        "id": "LTPOynD-JF2L",
        "colab_type": "code",
        "colab": {
          "base_uri": "https://localhost:8080/",
          "height": 359
        },
        "outputId": "734fa788-0f48-4556-eaf7-bc904e6547ca"
      },
      "source": [
        "d1 = data[['customer_id','date']].groupby('customer_id').max().reset_index()\n",
        "\n",
        "d2 = data.groupby('customer_id').size().reset_index()\n",
        "d2.columns = ['customer_id','order_count']\n",
        "\n",
        "d3 = data[['customer_id','gender']].groupby('customer_id').mean().reset_index()\n",
        "\n",
        "d4 = data[['customer_id','predicted_gender']].groupby('customer_id').mean().reset_index()\n",
        "\n",
        "merge = d1.merge(d2,on='customer_id').merge(d3,on='customer_id').merge(d4,on='customer_id')\n",
        "merge = merge.sort_values(by = 'customer_id',ascending=True)\n",
        "merge.columns =['customer_id','most_recent_order_date','order_count','gender','predicted_gender']\n",
        "\n",
        "merge[['customer_id','most_recent_order_date','order_count','gender']].head(10)"
      ],
      "execution_count": null,
      "outputs": [
        {
          "output_type": "execute_result",
          "data": {
            "text/html": [
              "<div>\n",
              "<style scoped>\n",
              "    .dataframe tbody tr th:only-of-type {\n",
              "        vertical-align: middle;\n",
              "    }\n",
              "\n",
              "    .dataframe tbody tr th {\n",
              "        vertical-align: top;\n",
              "    }\n",
              "\n",
              "    .dataframe thead th {\n",
              "        text-align: right;\n",
              "    }\n",
              "</style>\n",
              "<table border=\"1\" class=\"dataframe\">\n",
              "  <thead>\n",
              "    <tr style=\"text-align: right;\">\n",
              "      <th></th>\n",
              "      <th>customer_id</th>\n",
              "      <th>most_recent_order_date</th>\n",
              "      <th>order_count</th>\n",
              "      <th>gender</th>\n",
              "    </tr>\n",
              "  </thead>\n",
              "  <tbody>\n",
              "    <tr>\n",
              "      <th>0</th>\n",
              "      <td>1000</td>\n",
              "      <td>2017-01-01 00:11:31</td>\n",
              "      <td>1</td>\n",
              "      <td>0</td>\n",
              "    </tr>\n",
              "    <tr>\n",
              "      <th>1</th>\n",
              "      <td>1001</td>\n",
              "      <td>2017-01-01 00:29:56</td>\n",
              "      <td>1</td>\n",
              "      <td>0</td>\n",
              "    </tr>\n",
              "    <tr>\n",
              "      <th>2</th>\n",
              "      <td>1002</td>\n",
              "      <td>2017-02-19 21:35:31</td>\n",
              "      <td>3</td>\n",
              "      <td>1</td>\n",
              "    </tr>\n",
              "    <tr>\n",
              "      <th>3</th>\n",
              "      <td>1003</td>\n",
              "      <td>2017-04-26 02:37:20</td>\n",
              "      <td>4</td>\n",
              "      <td>1</td>\n",
              "    </tr>\n",
              "    <tr>\n",
              "      <th>4</th>\n",
              "      <td>1004</td>\n",
              "      <td>2017-01-01 03:11:54</td>\n",
              "      <td>1</td>\n",
              "      <td>0</td>\n",
              "    </tr>\n",
              "    <tr>\n",
              "      <th>5</th>\n",
              "      <td>1005</td>\n",
              "      <td>2017-12-16 01:39:27</td>\n",
              "      <td>2</td>\n",
              "      <td>1</td>\n",
              "    </tr>\n",
              "    <tr>\n",
              "      <th>6</th>\n",
              "      <td>1006</td>\n",
              "      <td>2017-05-09 15:27:20</td>\n",
              "      <td>3</td>\n",
              "      <td>1</td>\n",
              "    </tr>\n",
              "    <tr>\n",
              "      <th>7</th>\n",
              "      <td>1007</td>\n",
              "      <td>2017-01-01 15:59:50</td>\n",
              "      <td>1</td>\n",
              "      <td>0</td>\n",
              "    </tr>\n",
              "    <tr>\n",
              "      <th>8</th>\n",
              "      <td>1008</td>\n",
              "      <td>2017-12-17 05:47:48</td>\n",
              "      <td>3</td>\n",
              "      <td>0</td>\n",
              "    </tr>\n",
              "    <tr>\n",
              "      <th>9</th>\n",
              "      <td>1009</td>\n",
              "      <td>2017-01-01 19:27:17</td>\n",
              "      <td>1</td>\n",
              "      <td>1</td>\n",
              "    </tr>\n",
              "  </tbody>\n",
              "</table>\n",
              "</div>"
            ],
            "text/plain": [
              "   customer_id most_recent_order_date  order_count  gender\n",
              "0         1000    2017-01-01 00:11:31            1       0\n",
              "1         1001    2017-01-01 00:29:56            1       0\n",
              "2         1002    2017-02-19 21:35:31            3       1\n",
              "3         1003    2017-04-26 02:37:20            4       1\n",
              "4         1004    2017-01-01 03:11:54            1       0\n",
              "5         1005    2017-12-16 01:39:27            2       1\n",
              "6         1006    2017-05-09 15:27:20            3       1\n",
              "7         1007    2017-01-01 15:59:50            1       0\n",
              "8         1008    2017-12-17 05:47:48            3       0\n",
              "9         1009    2017-01-01 19:27:17            1       1"
            ]
          },
          "metadata": {
            "tags": []
          },
          "execution_count": 17
        }
      ]
    },
    {
      "cell_type": "markdown",
      "metadata": {
        "id": "MilmR7DdI2-w",
        "colab_type": "text"
      },
      "source": [
        "# (B)\n",
        "\n",
        "---\n",
        "\n"
      ]
    },
    {
      "cell_type": "markdown",
      "metadata": {
        "id": "9f80LpGBZqF5",
        "colab_type": "text"
      },
      "source": [
        "* First week of 2017 Starting on 2017/01/02"
      ]
    },
    {
      "cell_type": "code",
      "metadata": {
        "id": "iWbmNz_kXT_e",
        "colab_type": "code",
        "colab": {
          "base_uri": "https://localhost:8080/",
          "height": 280
        },
        "outputId": "124b8067-5c98-4f64-e37f-b0a00fad0468"
      },
      "source": [
        "#Plot the count of orders per week for the store.\n",
        "data['Week_Number'] = data['date'].dt.week\n",
        "data1 = data[data['date'] >= '2017-01-02'].groupby('Week_Number').size()\n",
        "plt.plot(data1,marker='o')\n",
        "plt.xlabel('Week_Number')\n",
        "plt.ylabel('Count of Orders')\n",
        "plt.show()"
      ],
      "execution_count": null,
      "outputs": [
        {
          "output_type": "display_data",
          "data": {
            "image/png": "[encoded data removed]",
            "text/plain": [
              "<Figure size 432x288 with 1 Axes>"
            ]
          },
          "metadata": {
            "tags": [],
            "needs_background": "light"
          }
        }
      ]
    },
    {
      "cell_type": "markdown",
      "metadata": {
        "id": "mczSDH57I37S",
        "colab_type": "text"
      },
      "source": [
        "# (C)\n",
        "\n",
        "---\n",
        "\n"
      ]
    },
    {
      "cell_type": "code",
      "metadata": {
        "id": "klLdS-pBcCGL",
        "colab_type": "code",
        "colab": {
          "base_uri": "https://localhost:8080/",
          "height": 85
        },
        "outputId": "a432c517-2e89-40b6-9c23-b9abf3f37ac9"
      },
      "source": [
        "# Compute the mean order value for gender 0 and for gender 1.\n",
        "data.groupby('gender').mean()['value']"
      ],
      "execution_count": null,
      "outputs": [
        {
          "output_type": "execute_result",
          "data": {
            "text/plain": [
              "gender\n",
              "0    363.890006\n",
              "1    350.708361\n",
              "Name: value, dtype: float64"
            ]
          },
          "metadata": {
            "tags": []
          },
          "execution_count": 19
        }
      ]
    },
    {
      "cell_type": "markdown",
      "metadata": {
        "id": "QXrtgucWd_K6",
        "colab_type": "text"
      },
      "source": [
        "* From above, it appears that there was a slight difference in the means of order value between two gender groups. I will repeatedly re-sample our dataset (with replacement) and calculate mean order value for those samples. The variation in mean order value will give us an indication of how uncertain the differences are.\n",
        "\n",
        "\n",
        "\n"
      ]
    },
    {
      "cell_type": "code",
      "metadata": {
        "id": "_pvhJpEZd-vF",
        "colab_type": "code",
        "colab": {
          "base_uri": "https://localhost:8080/",
          "height": 282
        },
        "outputId": "11ea9c14-44ed-42ce-9915-9b82dfd31c01"
      },
      "source": [
        "# Creating an list with bootstrapped means for each AB-group\n",
        "boot = []\n",
        "for i in range(1000):\n",
        "    boot_mean = data.sample(frac = 1,replace = True).groupby('gender')['value'].mean()\n",
        "    boot.append(boot_mean)\n",
        "\n",
        "boot = pd.DataFrame(boot)\n",
        "    \n",
        "# A Kernel Density Estimate plot of the bootstrap distributions\n",
        "boot.plot(kind='density')"
      ],
      "execution_count": null,
      "outputs": [
        {
          "output_type": "execute_result",
          "data": {
            "text/plain": [
              "<matplotlib.axes._subplots.AxesSubplot at 0x7fe2ab856208>"
            ]
          },
          "metadata": {
            "tags": []
          },
          "execution_count": 20
        },
        {
          "output_type": "display_data",
          "data": {
            "image/png": "[encoded data removed]",
            "text/plain": [
              "<Figure size 432x288 with 1 Axes>"
            ]
          },
          "metadata": {
            "tags": [],
            "needs_background": "light"
          }
        }
      ]
    },
    {
      "cell_type": "code",
      "metadata": {
        "id": "qg6YMD-pkjlC",
        "colab_type": "code",
        "colab": {
          "base_uri": "https://localhost:8080/",
          "height": 298
        },
        "outputId": "b8e57678-a34b-44ce-9f1a-ad8dcd9c9d69"
      },
      "source": [
        "# Add a column with the percentage difference between the two gender groups\n",
        "boot['diff'] = (boot[0] - boot[1])/boot[1]*100\n",
        "\n",
        "# Ploting the bootstrap % difference\n",
        "ax = boot['diff'].plot(kind='density')\n",
        "ax.set_title('% difference in mean order value between the two gender groups')\n",
        "\n",
        "# Calculating the probability that mean order value is greater when under gender group 0\n",
        "print('Probability that mean order value is greater when under gender group 0:',(boot['diff'] > 0).mean())"
      ],
      "execution_count": null,
      "outputs": [
        {
          "output_type": "stream",
          "text": [
            "Probability that mean order value is greater when under gender group 0: 0.969\n"
          ],
          "name": "stdout"
        },
        {
          "output_type": "display_data",
          "data": {
            "image/png": "[encoded data removed]",
            "text/plain": [
              "<Figure size 432x288 with 1 Axes>"
            ]
          },
          "metadata": {
            "tags": [],
            "needs_background": "light"
          }
        }
      ]
    },
    {
      "cell_type": "markdown",
      "metadata": {
        "id": "AP7deCzcuxoB",
        "colab_type": "text"
      },
      "source": [
        "* More than 95% of the distribution is above 0%, in favor of gender group 0. The bootstrap result tells us that there is strong evidence that mean order value is higher when the gender group is 0 than when it is 1. Concluded the difference is significant\n",
        "\n",
        "\n",
        "\n"
      ]
    },
    {
      "cell_type": "markdown",
      "metadata": {
        "id": "C6iEKUhLI4xi",
        "colab_type": "text"
      },
      "source": [
        "# (D)\n",
        "\n",
        "---\n",
        "\n"
      ]
    },
    {
      "cell_type": "code",
      "metadata": {
        "id": "UuivEmo-vSv6",
        "colab_type": "code",
        "colab": {
          "base_uri": "https://localhost:8080/",
          "height": 410
        },
        "outputId": "e08a66b2-3eb4-45f6-aaa3-cc6f7af9bba8"
      },
      "source": [
        "def confusion_metric(y_test, y_pred):\n",
        "  from sklearn.metrics import confusion_matrix\n",
        "  import seaborn as sns\n",
        "  cm = confusion_matrix(y_test,y_pred)\n",
        "  fig, ax = plt.subplots()\n",
        "  sns.heatmap(pd.DataFrame(cm), annot=True, cmap=\"Set3\" ,fmt='g')\n",
        "  ax.xaxis.set_label_position(\"top\")\n",
        "  plt.tight_layout()\n",
        "  plt.title('Confusion matrix', y=1.1)\n",
        "  plt.ylabel('Actual label')\n",
        "  plt.xlabel('Predicted label')\n",
        "  \n",
        "confusion_metric(merge['gender'],merge['predicted_gender'])\n",
        "\n",
        "from sklearn.metrics import accuracy_score\n",
        "\n",
        "print('* There are',merge.shape[0],'unique customers in total.')\n",
        "print('* From the confusion matrix, for gender group 1, there are 3512 true predictios, 895 false predicitions. \\\n",
        "79.69% of gender 1 is predicted correctly')\n",
        "print('* From the confusion matrix, for gender group 0, there are 2189 true predictios, 2218 false predicitions.\\\n",
        " 49.67% of gender 0 is predicted correctly')\n",
        "print('* The predictions does a better job in gender 1 group. And the overall accuracy score is:',accuracy_score(merge['gender'],merge['predicted_gender']))"
      ],
      "execution_count": null,
      "outputs": [
        {
          "output_type": "stream",
          "text": [
            "* There are 8814 unique customers in total.\n",
            "* From the confusion matrix, for gender group 1, there are 3512 true predictios, 895 false predicitions. 79.69% of gender 1 is predicted correctly\n",
            "* From the confusion matrix, for gender group 0, there are 2189 true predictios, 2218 false predicitions. 49.67% of gender 0 is predicted correctly\n",
            "* The predictions does a better job in gender 1 group. And the overall accuracy score is: 0.6468118901747221\n"
          ],
          "name": "stdout"
        },
        {
          "output_type": "display_data",
          "data": {
            "image/png": "[encoded data removed]",
            "text/plain": [
              "<Figure size 432x288 with 2 Axes>"
            ]
          },
          "metadata": {
            "tags": [],
            "needs_background": "light"
          }
        }
      ]
    },
    {
      "cell_type": "markdown",
      "metadata": {
        "id": "_7b2sp0pJC3H",
        "colab_type": "text"
      },
      "source": [
        "# (E)\n",
        "\n",
        "---\n",
        "\n"
      ]
    },
    {
      "cell_type": "markdown",
      "metadata": {
        "id": "llrG244R9s5d",
        "colab_type": "text"
      },
      "source": [
        "One of my favorite techniques is data visualization as it always empowers my data science presentations! As part of a final project of my business analytics course, my team had a month to finish our project and were required to deliver a 10 minute presentation on our project.Part of my role was to apply various models to predict customers final email-click decision. While our team were doing the mock presentation, I was told me my part which is explaining various models, are unclear and complicated to non-technical audience. So I decided to streamline my parts through incorporating graphs in order to make the algorithm easier to understand. For instance, I replaced the complicated mathematic formulas of Random Forest Algorithm within the decision tree graphs in the powerpoint. My team was pleased with my adjustment. While presenting, we received very positive feedbacks for effectively communicating complex knowledge. From there, I am constantly learning and expanding my skillset in data visualization!\n"
      ]
    }
  ]
}
